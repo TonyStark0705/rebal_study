{
 "cells": [
  {
   "cell_type": "code",
   "execution_count": 1,
   "id": "5039def5-b0bb-42b8-a5bc-aa94390c3943",
   "metadata": {},
   "outputs": [
    {
     "name": "stdout",
     "output_type": "stream",
     "text": [
      "5\n"
     ]
    }
   ],
   "source": [
    "# Lecture 1: Functions & Modules\n",
    "\n",
    "# A function is a block of reusable code that performs a task.\n",
    "\n",
    "# Example:\n",
    "\n",
    "def add(a, b):\n",
    "    return a + b\n",
    "\n",
    "print(add(2, 3))  # → 5\n"
   ]
  },
  {
   "cell_type": "code",
   "execution_count": null,
   "id": "629bef6e-8367-4f77-be94-43be8444b298",
   "metadata": {},
   "outputs": [
    {
     "name": "stdout",
     "output_type": "stream",
     "text": [
      "What is your age, Tuan?\n",
      "Hello, Tuan!\n"
     ]
    }
   ],
   "source": [
    "# A module is a .py file that groups related functions or classes.\n",
    "\n",
    "# Example: math.py is a module in Python’s standard library.\n",
    "\n",
    "# Importing from a module:\n",
    "\n",
    "# core/hello.py\n",
    "# def say_hello(name):\n",
    "#     return f\"Hello, {name}!\"\n",
    "\n",
    "# from a main.py app in the same directory\n",
    "\n",
    "from hello import say_hello, ask_age\n",
    "\n",
    "# if you stay in a different directory, for example rebal_study, use:\n",
    "# from Week1.hello import say_hello, ask_age\n",
    "\n",
    "print(ask_age(\"Tuan\"))\n",
    "print(say_hello(\"Tuan\"))\n",
    "\n",
    "# 👉 Practice Task: Create core/utils.py with a function square(x). Import it in another file and run it."
   ]
  },
  {
   "cell_type": "code",
   "execution_count": null,
   "id": "e321c57f-5ad1-43c3-a2d2-388a870ec8e6",
   "metadata": {},
   "outputs": [],
   "source": []
  }
 ],
 "metadata": {
  "kernelspec": {
   "display_name": "Python 3 (ipykernel)",
   "language": "python",
   "name": "python3"
  },
  "language_info": {
   "codemirror_mode": {
    "name": "ipython",
    "version": 3
   },
   "file_extension": ".py",
   "mimetype": "text/x-python",
   "name": "python",
   "nbconvert_exporter": "python",
   "pygments_lexer": "ipython3",
   "version": "3.10.18"
  }
 },
 "nbformat": 4,
 "nbformat_minor": 5
}
